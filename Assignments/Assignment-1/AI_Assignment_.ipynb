{
  "cells": [
    {
      "cell_type": "code",
      "execution_count": 10,
      "id": "f006070c",
      "metadata": {
        "colab": {
          "base_uri": "https://localhost:8080/"
        },
        "id": "f006070c",
        "outputId": "6efcee5d-b455-42cb-e3ac-3c1a798875dc"
      },
      "outputs": [
        {
          "output_type": "stream",
          "name": "stdout",
          "text": [
            "Drive already mounted at /content/gdrive; to attempt to forcibly remount, call drive.mount(\"/content/gdrive\", force_remount=True).\n",
            "Sentences:  3\n",
            "Words:  126\n",
            "Characters:  499\n",
            "Readibillity Index:  18.22309523809524\n"
          ]
        }
      ],
      "source": [
        "# Shoaib Akhtar\n",
        "# 20P-0147\n",
        "# SEC-6B\n",
        "\n",
        "\n",
        "from google.colab import drive\n",
        "drive.mount('/content/gdrive')\n",
        "\n",
        "\n",
        "def FIND_ARI():\n",
        "\n",
        "  directory = \"/content/gdrive/My Drive\"\n",
        "  name = \"file3.txt\"\n",
        "\n",
        "  import os\n",
        "\n",
        "  filename = os.path.join(directory, name)\n",
        "\n",
        "  l = [] \n",
        "\n",
        "  with open(filename, 'r') as f:\n",
        "      l = f.read().split()\n",
        "  \n",
        "  sentences = 0\n",
        "  words = 0\n",
        "  characters = 0\n",
        "  ARI = 0\n",
        "\n",
        "  #Loop to find words\n",
        "\n",
        "  for word in l:\n",
        "      words += len(word.split(\"-\"))\n",
        "\n",
        "\n",
        "          \n",
        "  # Loop to find sentences , characters \n",
        "\n",
        "  for i in l:\n",
        "      for j in i:\n",
        "\n",
        "          if(j==\".\"):\n",
        "              sentences +=1\n",
        "\n",
        "          elif((j==\",\") or (j==\"-\")):\n",
        "              pass\n",
        "          \n",
        "          else:\n",
        "              characters +=1\n",
        "    \n",
        "  ARI = (4.71*(characters/words)) + (0.5*(words/sentences))-21.43\n",
        "\n",
        "  \n",
        "  print(\"Sentences: \",sentences)\n",
        "  print(\"Words: \",words)\n",
        "  print(\"Characters: \",characters)\n",
        "  print(\"Readibillity Index: \",ARI)\n",
        "\n",
        "FIND_ARI()\n"
      ]
    },
    {
      "cell_type": "markdown",
      "source": [],
      "metadata": {
        "id": "9W_uzXxDxAJh"
      },
      "id": "9W_uzXxDxAJh"
    },
    {
      "cell_type": "code",
      "source": [],
      "metadata": {
        "id": "z8HJohFmxA9P"
      },
      "id": "z8HJohFmxA9P",
      "execution_count": null,
      "outputs": []
    },
    {
      "cell_type": "code",
      "execution_count": null,
      "id": "c11a29ee",
      "metadata": {
        "id": "c11a29ee"
      },
      "outputs": [],
      "source": [
        "\n",
        "  \n",
        "        \n",
        "    \n"
      ]
    },
    {
      "cell_type": "code",
      "execution_count": null,
      "id": "5d2ed5a2",
      "metadata": {
        "id": "5d2ed5a2"
      },
      "outputs": [],
      "source": []
    },
    {
      "cell_type": "code",
      "execution_count": null,
      "id": "8a69586d",
      "metadata": {
        "id": "8a69586d"
      },
      "outputs": [],
      "source": []
    },
    {
      "cell_type": "code",
      "execution_count": null,
      "id": "bc89ac4c",
      "metadata": {
        "id": "bc89ac4c"
      },
      "outputs": [],
      "source": []
    },
    {
      "cell_type": "code",
      "execution_count": null,
      "id": "25d2cec8",
      "metadata": {
        "id": "25d2cec8"
      },
      "outputs": [],
      "source": []
    },
    {
      "cell_type": "code",
      "execution_count": null,
      "id": "5103f3ce",
      "metadata": {
        "id": "5103f3ce"
      },
      "outputs": [],
      "source": []
    },
    {
      "cell_type": "code",
      "execution_count": null,
      "id": "99cc7acc",
      "metadata": {
        "id": "99cc7acc"
      },
      "outputs": [],
      "source": []
    },
    {
      "cell_type": "code",
      "execution_count": null,
      "id": "ba14f1d2",
      "metadata": {
        "id": "ba14f1d2"
      },
      "outputs": [],
      "source": []
    },
    {
      "cell_type": "code",
      "execution_count": null,
      "id": "c60bd500",
      "metadata": {
        "id": "c60bd500"
      },
      "outputs": [],
      "source": []
    },
    {
      "cell_type": "code",
      "execution_count": null,
      "id": "04b02611",
      "metadata": {
        "id": "04b02611"
      },
      "outputs": [],
      "source": []
    },
    {
      "cell_type": "code",
      "execution_count": null,
      "id": "2ae9fd30",
      "metadata": {
        "id": "2ae9fd30"
      },
      "outputs": [],
      "source": []
    },
    {
      "cell_type": "code",
      "execution_count": null,
      "id": "3ae95e25",
      "metadata": {
        "id": "3ae95e25"
      },
      "outputs": [],
      "source": []
    },
    {
      "cell_type": "code",
      "execution_count": null,
      "id": "adc6b06d",
      "metadata": {
        "id": "adc6b06d"
      },
      "outputs": [],
      "source": []
    }
  ],
  "metadata": {
    "kernelspec": {
      "display_name": "Python 3 (ipykernel)",
      "language": "python",
      "name": "python3"
    },
    "language_info": {
      "codemirror_mode": {
        "name": "ipython",
        "version": 3
      },
      "file_extension": ".py",
      "mimetype": "text/x-python",
      "name": "python",
      "nbconvert_exporter": "python",
      "pygments_lexer": "ipython3",
      "version": "3.9.12"
    },
    "colab": {
      "provenance": []
    }
  },
  "nbformat": 4,
  "nbformat_minor": 5
}
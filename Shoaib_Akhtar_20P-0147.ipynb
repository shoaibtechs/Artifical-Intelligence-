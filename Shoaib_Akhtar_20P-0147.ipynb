{
 "cells": [
  {
   "cell_type": "code",
   "execution_count": 1,
   "id": "b4237af0",
   "metadata": {},
   "outputs": [],
   "source": [
    "import heapq\n",
    "from collections import deque, defaultdict\n",
    "\n",
    "class Graph:\n",
    "    \"\"\"\n",
    "    A class representing a directed graph with vertices and edges.\n",
    "    \"\"\"\n",
    "    \n",
    "    def __init__(self):\n",
    "        self.vertices = set()\n",
    "        self.edges = defaultdict(set)\n",
    "        self.weights = {}\n",
    "        \n",
    "    def add_vertex(self, vertex):\n",
    "        self.vertices.add(vertex)\n",
    "        \n",
    "    def add_edge(self, from_vertex, to_vertex, weight=0):\n",
    "        self.edges[from_vertex].add(to_vertex)\n",
    "        self.weights[(from_vertex, to_vertex)] = weight\n",
    "        \n",
    "    def get_neighbors(self, vertex):\n",
    "        return self.edges[vertex]\n",
    "        \n",
    "    def get_cost(self, from_vertex, to_vertex):\n",
    "        return self.weights[(from_vertex, to_vertex)]"
   ]
  },
  {
   "cell_type": "code",
   "execution_count": 2,
   "id": "a84c042c",
   "metadata": {},
   "outputs": [],
   "source": [
    "def bfs(graph):\n",
    "    \"\"\"\n",
    "    Breadth-First Search algorithm for finding the vertex ordering with the lowest cost.\n",
    "    \"\"\"\n",
    "    \n",
    "    min_cost = float('inf')\n",
    "    min_ordering = []\n",
    "    \n",
    "    for start_vertex in graph.vertices:\n",
    "        queue = deque([(start_vertex, [start_vertex])])\n",
    "        \n",
    "        while queue:\n",
    "            (vertex, path) = queue.popleft()\n",
    "            \n",
    "            if len(path) == len(graph.vertices):\n",
    "                # Found a complete path\n",
    "                cost = get_total_cost(graph, path)\n",
    "                if cost < min_cost:\n",
    "                    min_cost = cost\n",
    "                    min_ordering = path\n",
    "                    \n",
    "            for neighbor in graph.get_neighbors(vertex):\n",
    "                if neighbor not in path:\n",
    "                    queue.append((neighbor, path + [neighbor]))\n",
    "                    \n",
    "    return min_ordering, min_cost"
   ]
  },
  {
   "cell_type": "code",
   "execution_count": null,
   "id": "f3d9bc90",
   "metadata": {},
   "outputs": [],
   "source": []
  }
 ],
 "metadata": {
  "kernelspec": {
   "display_name": "Python 3 (ipykernel)",
   "language": "python",
   "name": "python3"
  },
  "language_info": {
   "codemirror_mode": {
    "name": "ipython",
    "version": 3
   },
   "file_extension": ".py",
   "mimetype": "text/x-python",
   "name": "python",
   "nbconvert_exporter": "python",
   "pygments_lexer": "ipython3",
   "version": "3.9.12"
  }
 },
 "nbformat": 4,
 "nbformat_minor": 5
}

{
 "cells": [
  {
   "cell_type": "code",
   "execution_count": 7,
   "id": "3161d493",
   "metadata": {},
   "outputs": [],
   "source": [
    "import string\n",
    "import re\n",
    "import operator\n",
    "from nltk.corpus import wordnet\n",
    "\n"
   ]
  },
  {
   "cell_type": "code",
   "execution_count": 8,
   "id": "78c47780",
   "metadata": {},
   "outputs": [],
   "source": [
    "# Function to read in a file and return its contents as a string\n",
    "def read_file(filename):\n",
    "    with open(filename, 'r') as file:\n",
    "        return file.read()\n",
    "\n"
   ]
  },
  {
   "cell_type": "code",
   "execution_count": 9,
   "id": "1c43549f",
   "metadata": {},
   "outputs": [],
   "source": [
    "# Function to write a string to a file\n",
    "def write_file(filename, text):\n",
    "    with open(filename, 'w') as file:\n",
    "        file.write(text)\n"
   ]
  },
  {
   "cell_type": "code",
   "execution_count": 10,
   "id": "5b1590dc",
   "metadata": {},
   "outputs": [],
   "source": [
    "# Function to write a string to a file\n",
    "def write_file(filename, text):\n",
    "    with open(filename, 'w') as file:\n",
    "        file.write(text)"
   ]
  },
  {
   "cell_type": "code",
   "execution_count": 13,
   "id": "530308c4",
   "metadata": {},
   "outputs": [],
   "source": [
    "# Function to generate a frequency dictionary for printable ASCII characters\n",
    "def generate_frequency_dict(text):\n",
    "    frequency_dict = {}\n",
    "    printable_chars = string.printable.replace('\\n', '')\n",
    "    for char in printable_chars:\n",
    "        frequency_dict[char] = 0\n",
    "    for char in text:\n",
    "        if char in frequency_dict:\n",
    "            frequency_dict[char] += 1\n",
    "    total_count = sum(frequency_dict.values())\n",
    "    for char in frequency_dict:\n",
    "        frequency_dict[char] /= total_count\n",
    "    return frequency_dict"
   ]
  },
  {
   "cell_type": "code",
   "execution_count": null,
   "id": "e2e72284",
   "metadata": {},
   "outputs": [],
   "source": []
  },
  {
   "cell_type": "code",
   "execution_count": 10,
   "id": "b52fdf9a",
   "metadata": {},
   "outputs": [],
   "source": [
    "# Function to generate a cipher based on a frequency dictionary\n",
    "def generate_cipher(frequency_dict):\n",
    "    sorted_dict = sorted(frequency_dict.items(), key=operator.itemgetter(1), reverse=True)\n",
    "    cipher = ''.join([pair[0] for pair in sorted_dict])\n",
    "    return cipher"
   ]
  },
  {
   "cell_type": "code",
   "execution_count": 11,
   "id": "73f818e4",
   "metadata": {},
   "outputs": [],
   "source": [
    "\n",
    "# Function to decrypt a message using a given cipher\n",
    "def decrypt_message(cipher, message):\n",
    "    mapping = dict(zip(cipher, string.printable))\n",
    "    decrypted_message = ''\n",
    "    for char in message:\n",
    "        if char in mapping:\n",
    "            decrypted_message += mapping[char]\n",
    "        else:\n",
    "            decrypted_message += char\n",
    "    return decrypted_message\n"
   ]
  },
  {
   "cell_type": "code",
   "execution_count": 12,
   "id": "cd5d7d0a",
   "metadata": {},
   "outputs": [
    {
     "ename": "UnicodeDecodeError",
     "evalue": "'utf-8' codec can't decode byte 0x99 in position 175: invalid start byte",
     "output_type": "error",
     "traceback": [
      "\u001b[0;31m---------------------------------------------------------------------------\u001b[0m",
      "\u001b[0;31mUnicodeDecodeError\u001b[0m                        Traceback (most recent call last)",
      "Cell \u001b[0;32mIn[12], line 16\u001b[0m\n\u001b[1;32m     14\u001b[0m \u001b[38;5;66;03m# Read in the plain and encrypted files\u001b[39;00m\n\u001b[1;32m     15\u001b[0m plain_text \u001b[38;5;241m=\u001b[39m read_file(\u001b[38;5;124m'\u001b[39m\u001b[38;5;124mplain2.txt\u001b[39m\u001b[38;5;124m'\u001b[39m)\n\u001b[0;32m---> 16\u001b[0m encrypted_text \u001b[38;5;241m=\u001b[39m \u001b[43mread_file\u001b[49m\u001b[43m(\u001b[49m\u001b[38;5;124;43m'\u001b[39;49m\u001b[38;5;124;43mencrypted2.txt\u001b[39;49m\u001b[38;5;124;43m'\u001b[39;49m\u001b[43m)\u001b[49m\n",
      "Cell \u001b[0;32mIn[6], line 4\u001b[0m, in \u001b[0;36mread_file\u001b[0;34m(filename)\u001b[0m\n\u001b[1;32m      2\u001b[0m \u001b[38;5;28;01mdef\u001b[39;00m \u001b[38;5;21mread_file\u001b[39m(filename):\n\u001b[1;32m      3\u001b[0m     \u001b[38;5;28;01mwith\u001b[39;00m \u001b[38;5;28mopen\u001b[39m(filename, \u001b[38;5;124m'\u001b[39m\u001b[38;5;124mr\u001b[39m\u001b[38;5;124m'\u001b[39m) \u001b[38;5;28;01mas\u001b[39;00m file:\n\u001b[0;32m----> 4\u001b[0m         \u001b[38;5;28;01mreturn\u001b[39;00m \u001b[43mfile\u001b[49m\u001b[38;5;241;43m.\u001b[39;49m\u001b[43mread\u001b[49m\u001b[43m(\u001b[49m\u001b[43m)\u001b[49m\n",
      "File \u001b[0;32m~/anaconda3/lib/python3.9/codecs.py:322\u001b[0m, in \u001b[0;36mBufferedIncrementalDecoder.decode\u001b[0;34m(self, input, final)\u001b[0m\n\u001b[1;32m    319\u001b[0m \u001b[38;5;28;01mdef\u001b[39;00m \u001b[38;5;21mdecode\u001b[39m(\u001b[38;5;28mself\u001b[39m, \u001b[38;5;28minput\u001b[39m, final\u001b[38;5;241m=\u001b[39m\u001b[38;5;28;01mFalse\u001b[39;00m):\n\u001b[1;32m    320\u001b[0m     \u001b[38;5;66;03m# decode input (taking the buffer into account)\u001b[39;00m\n\u001b[1;32m    321\u001b[0m     data \u001b[38;5;241m=\u001b[39m \u001b[38;5;28mself\u001b[39m\u001b[38;5;241m.\u001b[39mbuffer \u001b[38;5;241m+\u001b[39m \u001b[38;5;28minput\u001b[39m\n\u001b[0;32m--> 322\u001b[0m     (result, consumed) \u001b[38;5;241m=\u001b[39m \u001b[38;5;28;43mself\u001b[39;49m\u001b[38;5;241;43m.\u001b[39;49m\u001b[43m_buffer_decode\u001b[49m\u001b[43m(\u001b[49m\u001b[43mdata\u001b[49m\u001b[43m,\u001b[49m\u001b[43m \u001b[49m\u001b[38;5;28;43mself\u001b[39;49m\u001b[38;5;241;43m.\u001b[39;49m\u001b[43merrors\u001b[49m\u001b[43m,\u001b[49m\u001b[43m \u001b[49m\u001b[43mfinal\u001b[49m\u001b[43m)\u001b[49m\n\u001b[1;32m    323\u001b[0m     \u001b[38;5;66;03m# keep undecoded input until the next call\u001b[39;00m\n\u001b[1;32m    324\u001b[0m     \u001b[38;5;28mself\u001b[39m\u001b[38;5;241m.\u001b[39mbuffer \u001b[38;5;241m=\u001b[39m data[consumed:]\n",
      "\u001b[0;31mUnicodeDecodeError\u001b[0m: 'utf-8' codec can't decode byte 0x99 in position 175: invalid start byte"
     ]
    }
   ],
   "source": [
    "# Function to correct a decrypted message using WordNet\n",
    "def correct_message(decrypted_message):\n",
    "    words = re.findall(r'\\w+', decrypted_message)\n",
    "    corrected_words = []\n",
    "    for word in words:\n",
    "        synsets = wordnet.synsets(word)\n",
    "        if synsets:\n",
    "            corrected_word = synsets[0].lemmas()[0].name()\n",
    "            corrected_words.append(corrected_word)\n",
    "        else:\n",
    "            corrected_words.append(word)\n",
    "    return re.sub(r'\\w+', lambda m: corrected_words.pop(0), decrypted_message)\n",
    "\n",
    "# Read in the plain and encrypted files\n",
    "plain_text = read_file('plain2.txt')\n",
    "encrypted_text = read_file('encrypted2.txt')\n"
   ]
  },
  {
   "cell_type": "code",
   "execution_count": 14,
   "id": "908439ae",
   "metadata": {},
   "outputs": [
    {
     "ename": "NameError",
     "evalue": "name 'encrypted_text' is not defined",
     "output_type": "error",
     "traceback": [
      "\u001b[0;31m---------------------------------------------------------------------------\u001b[0m",
      "\u001b[0;31mNameError\u001b[0m                                 Traceback (most recent call last)",
      "Cell \u001b[0;32mIn[14], line 3\u001b[0m\n\u001b[1;32m      1\u001b[0m \u001b[38;5;66;03m# Generate frequency dictionaries for the plain and encrypted texts\u001b[39;00m\n\u001b[1;32m      2\u001b[0m plain_freq_dict \u001b[38;5;241m=\u001b[39m generate_frequency_dict(plain_text)\n\u001b[0;32m----> 3\u001b[0m encrypted_freq_dict \u001b[38;5;241m=\u001b[39m generate_frequency_dict(\u001b[43mencrypted_text\u001b[49m)\n\u001b[1;32m      5\u001b[0m \u001b[38;5;66;03m# Generate a cipher based on the frequency dictionaries\u001b[39;00m\n\u001b[1;32m      6\u001b[0m cipher \u001b[38;5;241m=\u001b[39m generate_cipher(encrypted_freq_dict)\n",
      "\u001b[0;31mNameError\u001b[0m: name 'encrypted_text' is not defined"
     ]
    }
   ],
   "source": [
    "# Generate frequency dictionaries for the plain and encrypted texts\n",
    "plain_freq_dict = generate_frequency_dict(plain_text)\n",
    "encrypted_freq_dict = generate_frequency_dict(encrypted_text)\n",
    "\n",
    "# Generate a cipher based on the frequency dictionaries\n",
    "cipher = generate_cipher(encrypted_freq_dict)\n",
    "\n",
    "# Write the cipher to a file\n",
    "write_file('cipher2.txt', cipher)\n",
    "\n",
    "# Decrypt the encrypted text using the cipher\n",
    "decrypted_text = decrypt_message(cipher, encrypted_text)\n",
    "\n",
    "# Correct the decrypted text using WordNet\n",
    "corrected_text = correct_message(decrypted_text)\n",
    "\n",
    "# Print the corrected text\n",
    "print(corrected_text)"
   ]
  },
  {
   "cell_type": "code",
   "execution_count": null,
   "id": "b67f8ee4",
   "metadata": {},
   "outputs": [],
   "source": []
  }
 ],
 "metadata": {
  "kernelspec": {
   "display_name": "Python 3 (ipykernel)",
   "language": "python",
   "name": "python3"
  },
  "language_info": {
   "codemirror_mode": {
    "name": "ipython",
    "version": 3
   },
   "file_extension": ".py",
   "mimetype": "text/x-python",
   "name": "python",
   "nbconvert_exporter": "python",
   "pygments_lexer": "ipython3",
   "version": "3.9.12"
  }
 },
 "nbformat": 4,
 "nbformat_minor": 5
}

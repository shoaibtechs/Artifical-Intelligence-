{
 "cells": [
  {
   "cell_type": "code",
   "execution_count": 1,
   "id": "3161d493",
   "metadata": {},
   "outputs": [],
   "source": [
    "import string\n",
    "import re\n",
    "import operator\n",
    "\n"
   ]
  },
  {
   "cell_type": "code",
   "execution_count": 8,
   "id": "78c47780",
   "metadata": {},
   "outputs": [],
   "source": [
    "# Function to read in a file and return its contents as a string\n",
    "def read_file(filename):\n",
    "    with open(filename, 'r') as file:\n",
    "        return file.read()\n",
    "\n"
   ]
  },
  {
   "cell_type": "code",
   "execution_count": 9,
   "id": "1c43549f",
   "metadata": {},
   "outputs": [],
   "source": [
    "# Function to write a string to a file\n",
    "def write_file(filename, text):\n",
    "    with open(filename, 'w') as file:\n",
    "        file.write(text)\n"
   ]
  },
  {
   "cell_type": "code",
   "execution_count": 10,
   "id": "5b1590dc",
   "metadata": {},
   "outputs": [],
   "source": [
    "# Function to write a string to a file\n",
    "def write_file(filename, text):\n",
    "    with open(filename, 'w') as file:\n",
    "        file.write(text)"
   ]
  },
  {
   "cell_type": "code",
   "execution_count": 17,
   "id": "530308c4",
   "metadata": {},
   "outputs": [],
   "source": [
    "# Function to generate a frequency dictionary for printable ASCII characters\n",
    "def generate_frequency_dict(text):\n",
    "    frequency_dict = {}\n",
    "    printable_chars = string.printable.replace('\\n', '')\n",
    "    for char in printable_chars:\n",
    "        frequency_dict[char] = 0\n",
    "    for char in text:\n",
    "        if char in frequency_dict:\n",
    "            frequency_dict[char] += 1\n",
    "    total_count = sum(frequency_dict.values())\n",
    "    for char in frequency_dict:\n",
    "        frequency_dict[char] /= total_count\n",
    "    return frequency_dict"
   ]
  },
  {
   "cell_type": "code",
   "execution_count": 10,
   "id": "b52fdf9a",
   "metadata": {},
   "outputs": [],
   "source": [
    "# Function to generate a cipher based on a frequency dictionary\n",
    "def generate_cipher(frequency_dict):\n",
    "    sorted_dict = sorted(frequency_dict.items(), key=operator.itemgetter(1), reverse=True)\n",
    "    cipher = ''.join([pair[0] for pair in sorted_dict])\n",
    "    return cipher"
   ]
  },
  {
   "cell_type": "code",
   "execution_count": 11,
   "id": "73f818e4",
   "metadata": {},
   "outputs": [],
   "source": [
    "\n",
    "# Function to decrypt a message using a given cipher\n",
    "def decrypt_message(cipher, message):\n",
    "    mapping = dict(zip(cipher, string.printable))\n",
    "    decrypted_message = ''\n",
    "    for char in message:\n",
    "        if char in mapping:\n",
    "            decrypted_message += mapping[char]\n",
    "        else:\n",
    "            decrypted_message += char\n",
    "    return decrypted_message\n"
   ]
  },
  {
   "cell_type": "code",
   "execution_count": null,
   "id": "cd5d7d0a",
   "metadata": {},
   "outputs": [],
   "source": []
  },
  {
   "cell_type": "code",
   "execution_count": 3,
   "id": "908439ae",
   "metadata": {},
   "outputs": [
    {
     "ename": "NameError",
     "evalue": "name 'generate_frequency_dict' is not defined",
     "output_type": "error",
     "traceback": [
      "\u001b[0;31m---------------------------------------------------------------------------\u001b[0m",
      "\u001b[0;31mNameError\u001b[0m                                 Traceback (most recent call last)",
      "Cell \u001b[0;32mIn[3], line 2\u001b[0m\n\u001b[1;32m      1\u001b[0m \u001b[38;5;66;03m# Generate frequency dictionaries for the plain and encrypted texts\u001b[39;00m\n\u001b[0;32m----> 2\u001b[0m plain_freq_dict \u001b[38;5;241m=\u001b[39m \u001b[43mgenerate_frequency_dict\u001b[49m(plain_text)\n\u001b[1;32m      3\u001b[0m encrypted_freq_dict \u001b[38;5;241m=\u001b[39m generate_frequency_dict(encrypted_text)\n\u001b[1;32m      5\u001b[0m \u001b[38;5;66;03m# Generate a cipher based on the frequency dictionaries\u001b[39;00m\n",
      "\u001b[0;31mNameError\u001b[0m: name 'generate_frequency_dict' is not defined"
     ]
    }
   ],
   "source": [
    "# Generate frequency dictionaries for the plain and encrypted texts\n",
    "plain_freq_dict = generate_frequency_dict(plain_text)\n",
    "encrypted_freq_dict = generate_frequency_dict(encrypted_text)\n",
    "\n",
    "# Generate a cipher based on the frequency dictionaries\n",
    "cipher = generate_cipher(encrypted_freq_dict)\n",
    "\n",
    "# Write the cipher to a file\n",
    "write_file('cipher2.txt', cipher)\n",
    "\n",
    "# Decrypt the encrypted text using the cipher\n",
    "decrypted_text = decrypt_message(cipher, encrypted_text)\n",
    "\n",
    "# Correct the decrypted text using WordNet\n",
    "corrected_text = correct_message(decrypted_text)\n",
    "\n",
    "# Print the corrected text\n",
    "print(corrected_text)"
   ]
  },
  {
   "cell_type": "code",
   "execution_count": null,
   "id": "b67f8ee4",
   "metadata": {},
   "outputs": [],
   "source": []
  }
 ],
 "metadata": {
  "kernelspec": {
   "display_name": "Python 3 (ipykernel)",
   "language": "python",
   "name": "python3"
  },
  "language_info": {
   "codemirror_mode": {
    "name": "ipython",
    "version": 3
   },
   "file_extension": ".py",
   "mimetype": "text/x-python",
   "name": "python",
   "nbconvert_exporter": "python",
   "pygments_lexer": "ipython3",
   "version": "3.9.12"
  }
 },
 "nbformat": 4,
 "nbformat_minor": 5
}
